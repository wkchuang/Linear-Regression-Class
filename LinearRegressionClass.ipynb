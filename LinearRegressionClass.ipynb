{
 "cells": [
  {
   "cell_type": "code",
   "execution_count": 1,
   "metadata": {},
   "outputs": [],
   "source": [
    "import numpy as np"
   ]
  },
  {
   "cell_type": "code",
   "execution_count": 246,
   "metadata": {},
   "outputs": [],
   "source": [
    "# Create a linear regression class\n",
    "\n",
    "class LinReg:\n",
    "    # Take in variables\n",
    "    def __init__(self, max_iterations=1000, delta=0.001, alpha=0.005):\n",
    "        self.max_iterations = max_iterations\n",
    "        self.delta = delta\n",
    "        self.alpha = alpha\n",
    "        \n",
    "    def fit(self, X, y, method):\n",
    "        self.X = X\n",
    "        self.y = y\n",
    "        self.method = method\n",
    "        \n",
    "        num_samples = self.X.shape[0]\n",
    "        ones_column = np.ones(num_samples)  \n",
    "        X = np.column_stack((ones_column, self.X))        \n",
    "        X_t = X.transpose()\n",
    "        \n",
    "        if method == \"analytic\":\n",
    "            XtX = np.matmul(X_t, X)\n",
    "            XtX_inv = np.linalg.inv(XtX)\n",
    "            self.theta_anal = np.matmul(np.matmul(XtX_inv , X_t), self.y)\n",
    "            \n",
    "        elif method == \"iterative\":\n",
    "            cost_hist = np.array([])\n",
    "            theta_guess = np.ones(X.shape[1])\n",
    "            for i in range(self.max_iterations):\n",
    "                hypothesis = X.dot(theta_guess)\n",
    "                temp_obj = np.multiply(X_t, (hypothesis-self.y))\n",
    "                dJdTheta = temp_obj.sum(axis=1) / num_samples\n",
    "                theta_guess = theta_guess - self.alpha*dJdTheta\n",
    "                \n",
    "                cost_fun = (np.square(hypothesis-self.y)).sum() / (2*num_samples)\n",
    "                cost_hist = np.append(cost_hist, cost_fun)\n",
    "                if all(abs(a) < self.delta for a in dJdTheta):\n",
    "                    print(dJdTheta)\n",
    "                    break     \n",
    "            self.theta_iter = theta_guess\n",
    "            self.cost_hist = cost_hist\n",
    "        \n",
    "        else:\n",
    "            print(\"Input either \\\"analytic\\\" or \\\"iterative\\\" for method\")\n",
    "            \n",
    "    def predict(X):\n",
    "        pass\n",
    "        # Have it return a matrix of y's"
   ]
  },
  {
   "cell_type": "code",
   "execution_count": 247,
   "metadata": {},
   "outputs": [],
   "source": [
    "# Create a test case generator\n",
    "def generate_linear_dataset(beta1, beta2, n, std_dev):\n",
    "    X1 = np.random.random(n) * 100\n",
    "    X2 = np.random.random(n) * 100\n",
    "    eps = np.random.randn(n) * std_dev\n",
    "    y = X1*beta1 + X2*beta2 + eps\n",
    "    X = np.column_stack((X1, X2))\n",
    "    return X, y"
   ]
  },
  {
   "cell_type": "code",
   "execution_count": 248,
   "metadata": {},
   "outputs": [],
   "source": [
    "X, y = generate_linear_dataset(7, 4, 100, 1.6)"
   ]
  },
  {
   "cell_type": "code",
   "execution_count": 270,
   "metadata": {},
   "outputs": [],
   "source": [
    "test1 = LinReg(max_iterations=15, alpha=0.0001)\n",
    "test1.fit(X, y, \"analytic\")"
   ]
  },
  {
   "cell_type": "code",
   "execution_count": 271,
   "metadata": {},
   "outputs": [
    {
     "data": {
      "text/plain": [
       "array([-0.27212392,  7.00191517,  4.0052596 ])"
      ]
     },
     "execution_count": 271,
     "metadata": {},
     "output_type": "execute_result"
    }
   ],
   "source": [
    "test1.theta_anal"
   ]
  },
  {
   "cell_type": "code",
   "execution_count": 272,
   "metadata": {},
   "outputs": [],
   "source": [
    "test1.fit(X, y, \"iterative\")"
   ]
  },
  {
   "cell_type": "code",
   "execution_count": 273,
   "metadata": {},
   "outputs": [
    {
     "data": {
      "text/plain": [
       "array([ 1.07925112,  6.63181046,  4.35752851])"
      ]
     },
     "execution_count": 273,
     "metadata": {},
     "output_type": "execute_result"
    }
   ],
   "source": [
    "test1.theta_iter"
   ]
  },
  {
   "cell_type": "code",
   "execution_count": 274,
   "metadata": {},
   "outputs": [],
   "source": [
    "import matplotlib.pyplot as plt"
   ]
  },
  {
   "cell_type": "code",
   "execution_count": 275,
   "metadata": {},
   "outputs": [
    {
     "data": {
      "text/plain": [
       "Text(0,0.5,'cost function')"
      ]
     },
     "execution_count": 275,
     "metadata": {},
     "output_type": "execute_result"
    }
   ],
   "source": [
    "x_range = list(range(1, test1.cost_hist.shape[0]+1))\n",
    "plt.fill_between(x_range, test1.cost_hist)\n",
    "plt.xlabel('iteration')\n",
    "plt.ylabel('cost function')"
   ]
  },
  {
   "cell_type": "code",
   "execution_count": 276,
   "metadata": {},
   "outputs": [
    {
     "data": {
      "image/png": "[encoded data removed]",
      "text/plain": [
       "<Figure size 432x288 with 1 Axes>"
      ]
     },
     "metadata": {},
     "output_type": "display_data"
    }
   ],
   "source": [
    "plt.show()"
   ]
  },
  {
   "cell_type": "code",
   "execution_count": null,
   "metadata": {},
   "outputs": [],
   "source": []
  },
  {
   "cell_type": "code",
   "execution_count": null,
   "metadata": {},
   "outputs": [],
   "source": []
  }
 ],
 "metadata": {
  "kernelspec": {
   "display_name": "Python [default]",
   "language": "python",
   "name": "python3"
  },
  "language_info": {
   "codemirror_mode": {
    "name": "ipython",
    "version": 3
   },
   "file_extension": ".py",
   "mimetype": "text/x-python",
   "name": "python",
   "nbconvert_exporter": "python",
   "pygments_lexer": "ipython3",
   "version": "3.5.5"
  },
  "varInspector": {
   "cols": {
    "lenName": 16,
    "lenType": 16,
    "lenVar": 40
   },
   "kernels_config": {
    "python": {
     "delete_cmd_postfix": "",
     "delete_cmd_prefix": "del ",
     "library": "var_list.py",
     "varRefreshCmd": "print(var_dic_list())"
    },
    "r": {
     "delete_cmd_postfix": ") ",
     "delete_cmd_prefix": "rm(",
     "library": "var_list.r",
     "varRefreshCmd": "cat(var_dic_list()) "
    }
   },
   "position": {
    "height": "354px",
    "left": "1260px",
    "right": "20px",
    "top": "108px",
    "width": "628px"
   },
   "types_to_exclude": [
    "module",
    "function",
    "builtin_function_or_method",
    "instance",
    "_Feature"
   ],
   "window_display": true
  }
 },
 "nbformat": 4,
 "nbformat_minor": 2
}
