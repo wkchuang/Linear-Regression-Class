{
 "cells": [
  {
   "cell_type": "code",
   "execution_count": 25,
   "metadata": {},
   "outputs": [],
   "source": [
    "import numpy as np"
   ]
  },
  {
   "cell_type": "code",
   "execution_count": 135,
   "metadata": {},
   "outputs": [],
   "source": [
    "# Create a linear regression class\n",
    "\n",
    "class linReg:\n",
    "    # Take in variables\n",
    "    # 'fit method','predict given fit method'\n",
    "    def __init__(self, X, y):\n",
    "        self.X = X\n",
    "        self.y = y\n",
    "    \n",
    "    # Method to create regression analytically\n",
    "    def analytic(obj):\n",
    "        arraysize = obj.X.shape[0]\n",
    "        arrayone = np.ones(arraysize)\n",
    "        Xact = np.column_stack((arrayone, obj.X))\n",
    "        XactT = Xact.transpose()\n",
    "        theta = np.matmul(np.matmul( np.linalg.inv(np.matmul(XactT, Xact)), XactT ), obj.y)\n",
    "        print(theta)\n",
    "         \n",
    "    # Method to create regression recursively\n",
    "    def recursive(obj):\n",
    "        theta = np.ones(obj.X.shape[1])\n",
    "        \n",
    "        # While loop goes here\n",
    "            \n",
    "    # "
   ]
  },
  {
   "cell_type": "code",
   "execution_count": 136,
   "metadata": {},
   "outputs": [],
   "source": [
    "# Create a test case generator\n",
    "def generate_linear_dataset(beta1, beta2, n, std_dev):\n",
    "    X1 = np.random.random(n)*100\n",
    "    X2 = np.random.random(n)*100\n",
    "    eps = np.random.randn(n)*std_dev\n",
    "    y = X1 * beta1 + X2 * beta2 + eps\n",
    "    X = np.column_stack((X1, X2))\n",
    "    return X, y"
   ]
  },
  {
   "cell_type": "code",
   "execution_count": 140,
   "metadata": {},
   "outputs": [],
   "source": [
    "X, y = generate_linear_dataset(7, 4, 100, 1.6)"
   ]
  },
  {
   "cell_type": "code",
   "execution_count": 141,
   "metadata": {},
   "outputs": [
    {
     "name": "stdout",
     "output_type": "stream",
     "text": [
      "[-0.1168997   7.00300428  3.99739429]\n"
     ]
    }
   ],
   "source": [
    "test1 = linReg(X,y)\n",
    "test1.analytic()"
   ]
  },
  {
   "cell_type": "code",
   "execution_count": null,
   "metadata": {},
   "outputs": [],
   "source": []
  },
  {
   "cell_type": "code",
   "execution_count": null,
   "metadata": {},
   "outputs": [],
   "source": []
  },
  {
   "cell_type": "code",
   "execution_count": null,
   "metadata": {},
   "outputs": [],
   "source": []
  },
  {
   "cell_type": "code",
   "execution_count": null,
   "metadata": {},
   "outputs": [],
   "source": []
  },
  {
   "cell_type": "code",
   "execution_count": null,
   "metadata": {},
   "outputs": [],
   "source": []
  }
 ],
 "metadata": {
  "kernelspec": {
   "display_name": "Python [default]",
   "language": "python",
   "name": "python3"
  },
  "language_info": {
   "codemirror_mode": {
    "name": "ipython",
    "version": 3
   },
   "file_extension": ".py",
   "mimetype": "text/x-python",
   "name": "python",
   "nbconvert_exporter": "python",
   "pygments_lexer": "ipython3",
   "version": "3.5.5"
  }
 },
 "nbformat": 4,
 "nbformat_minor": 2
}
