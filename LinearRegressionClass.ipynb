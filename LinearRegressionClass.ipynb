{
 "cells": [
  {
   "cell_type": "code",
   "execution_count": 1,
   "metadata": {},
   "outputs": [],
   "source": [
    "import numpy as np"
   ]
  },
  {
   "cell_type": "code",
   "execution_count": 211,
   "metadata": {},
   "outputs": [],
   "source": [
    "# Create a linear regression class\n",
    "\n",
    "class LinReg:\n",
    "    # Take in variables\n",
    "    def __init__(self, max_iterations=1000, err_tolerance=0.001, alpha=0.005):\n",
    "        self.max_iterations = max_iterations\n",
    "        self.err_tolerance = err_tolerance\n",
    "        self.alpha = alpha\n",
    "        \n",
    "    def fit(self, X, y, method):\n",
    "        self.X = X\n",
    "        self.y = y\n",
    "        self.method = method\n",
    "        \n",
    "        num_samples = self.X.shape[0]\n",
    "        ones_column = np.ones(num_samples)  \n",
    "        X = np.column_stack((ones_column, self.X))        \n",
    "        X_t = X.transpose()\n",
    "        \n",
    "        if method == \"analytic\":\n",
    "            XtX = np.matmul(X_t, X)\n",
    "            XtX_inv = np.linalg.inv(XtX)\n",
    "            self.theta_anal = np.matmul(np.matmul(XtX_inv , X_t), self.y)\n",
    "            \n",
    "        elif method == \"iterative\":\n",
    "            theta_guess = np.ones(X.shape[1])\n",
    "            for i in range(self.max_iterations):\n",
    "                hypothesis = X.dot(theta_guess)\n",
    "                temp_obj = np.multiply(X_t, (hypothesis-self.y))\n",
    "                temp_obj = temp_obj.sum(axis=1) / num_samples\n",
    "                theta_guess = theta_guess - self.alpha*temp_obj\n",
    "                if all(abs(J) < self.err_tolerance for J in temp_obj):\n",
    "                    print(temp_obj)\n",
    "                    break\n",
    "                    \n",
    "            self.theta_iter = theta_guess\n",
    "        \n",
    "        else:\n",
    "            print(\"Input either \\\"analytic\\\" or \\\"iterative\\\" for method\")\n",
    "            \n",
    "    def predict(X):\n",
    "        pass\n",
    "        # Have it return a matrix of y's"
   ]
  },
  {
   "cell_type": "code",
   "execution_count": 212,
   "metadata": {},
   "outputs": [],
   "source": [
    "# Create a test case generator\n",
    "def generate_linear_dataset(beta1, beta2, n, std_dev):\n",
    "    X1 = np.random.random(n) * 100\n",
    "    X2 = np.random.random(n) * 100\n",
    "    eps = np.random.randn(n) * std_dev\n",
    "    y = X1*beta1 + X2*beta2 + eps\n",
    "    X = np.column_stack((X1, X2))\n",
    "    return X, y"
   ]
  },
  {
   "cell_type": "code",
   "execution_count": 213,
   "metadata": {},
   "outputs": [],
   "source": [
    "X, y = generate_linear_dataset(7, 4, 100, 1.6)"
   ]
  },
  {
   "cell_type": "code",
   "execution_count": 214,
   "metadata": {},
   "outputs": [],
   "source": [
    "test1 = LinReg(max_iterations=200, alpha=0.0001)\n",
    "test1.fit(X, y, \"analytic\")"
   ]
  },
  {
   "cell_type": "code",
   "execution_count": 215,
   "metadata": {},
   "outputs": [
    {
     "data": {
      "text/plain": [
       "array([ 0.26425371,  7.00140375,  3.99272335])"
      ]
     },
     "execution_count": 215,
     "metadata": {},
     "output_type": "execute_result"
    }
   ],
   "source": [
    "test1.theta_anal"
   ]
  },
  {
   "cell_type": "code",
   "execution_count": 216,
   "metadata": {},
   "outputs": [],
   "source": [
    "test1.fit(X, y, \"iterative\")"
   ]
  },
  {
   "cell_type": "code",
   "execution_count": 217,
   "metadata": {},
   "outputs": [
    {
     "data": {
      "text/plain": [
       "array([ 1.07422126,  6.99468731,  3.98556472])"
      ]
     },
     "execution_count": 217,
     "metadata": {},
     "output_type": "execute_result"
    }
   ],
   "source": [
    "test1.theta_iter"
   ]
  },
  {
   "cell_type": "code",
   "execution_count": null,
   "metadata": {},
   "outputs": [],
   "source": []
  },
  {
   "cell_type": "code",
   "execution_count": null,
   "metadata": {},
   "outputs": [],
   "source": []
  }
 ],
 "metadata": {
  "kernelspec": {
   "display_name": "Python [default]",
   "language": "python",
   "name": "python3"
  },
  "language_info": {
   "codemirror_mode": {
    "name": "ipython",
    "version": 3
   },
   "file_extension": ".py",
   "mimetype": "text/x-python",
   "name": "python",
   "nbconvert_exporter": "python",
   "pygments_lexer": "ipython3",
   "version": "3.5.5"
  },
  "varInspector": {
   "cols": {
    "lenName": 16,
    "lenType": 16,
    "lenVar": 40
   },
   "kernels_config": {
    "python": {
     "delete_cmd_postfix": "",
     "delete_cmd_prefix": "del ",
     "library": "var_list.py",
     "varRefreshCmd": "print(var_dic_list())"
    },
    "r": {
     "delete_cmd_postfix": ") ",
     "delete_cmd_prefix": "rm(",
     "library": "var_list.r",
     "varRefreshCmd": "cat(var_dic_list()) "
    }
   },
   "position": {
    "height": "354px",
    "left": "1260px",
    "right": "20px",
    "top": "108px",
    "width": "628px"
   },
   "types_to_exclude": [
    "module",
    "function",
    "builtin_function_or_method",
    "instance",
    "_Feature"
   ],
   "window_display": true
  }
 },
 "nbformat": 4,
 "nbformat_minor": 2
}
