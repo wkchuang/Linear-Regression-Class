{
 "cells": [
  {
   "cell_type": "code",
   "execution_count": 50,
   "metadata": {},
   "outputs": [],
   "source": [
    "import numpy as np"
   ]
  },
  {
   "cell_type": "code",
   "execution_count": 84,
   "metadata": {},
   "outputs": [],
   "source": [
    "# Create a linear regression class\n",
    "\n",
    "class LinReg:\n",
    "    # Take in variables\n",
    "    def __init__(self, max_iterations=1000, delta=0.001, alpha=0.005):\n",
    "        self.max_iterations = max_iterations\n",
    "        self.delta = delta\n",
    "        self.alpha = alpha\n",
    "        \n",
    "    def fit(self, X, y, method):\n",
    "        self.X = X\n",
    "        self.y = y\n",
    "        self.method = method\n",
    "        \n",
    "        num_samples = self.X.shape[0]\n",
    "        ones_column = np.ones(num_samples)  \n",
    "        X = np.column_stack((ones_column, self.X))        \n",
    "        X_t = X.transpose()\n",
    "        \n",
    "        if method == \"analytic\":\n",
    "            XtX = np.matmul(X_t, X)\n",
    "            XtX_inv = np.linalg.inv(XtX)\n",
    "            self.theta_anal = np.matmul(np.matmul(XtX_inv , X_t), self.y)\n",
    "            \n",
    "        elif method == \"iterative\":\n",
    "            cost_hist = np.array([])\n",
    "            theta_guess = np.ones(X.shape[1])\n",
    "            for i in range(self.max_iterations):\n",
    "                hypothesis = X.dot(theta_guess)\n",
    "                temp_obj = np.multiply(X_t, (hypothesis-self.y))\n",
    "                dJdTheta = temp_obj.sum(axis=1) / num_samples\n",
    "                theta_guess = theta_guess - self.alpha*dJdTheta\n",
    "                \n",
    "                cost_fun = (np.square(hypothesis-self.y)).sum() / (2*num_samples)\n",
    "                cost_hist = np.append(cost_hist, cost_fun)\n",
    "                if all(abs(a) < self.delta for a in dJdTheta):\n",
    "                    print(dJdTheta)\n",
    "                    break     \n",
    "            self.theta_iter = theta_guess\n",
    "            self.cost_hist = cost_hist\n",
    "        \n",
    "        else:\n",
    "            print(\"Input either \\\"analytic\\\" or \\\"iterative\\\" for method\")\n",
    "            \n",
    "    def predict(self, X_samples):\n",
    "        self.X_samples = X_samples\n",
    "        try:\n",
    "            beta_fitted = self.theta_anal\n",
    "        except ExplicitException:\n",
    "            try: \n",
    "                beta_fitted = self.theta_iter\n",
    "            except ExplicitException:\n",
    "                print(\"Get a fit first before making predictions!\")\n",
    "    \n",
    "#         if 'self.theta_anal' in locals():\n",
    "#             beta_fitted = self.theta_anal\n",
    "#         elif 'self.theta_iter' in locals():\n",
    "#             beta_fitted = self.theta_iter\n",
    "#         else:\n",
    "#             print(\"Get a fit first before making predictions!\")  \n",
    "        self.y_predicted = np.matmul(self.X_samples, beta_fitted)\n",
    "\n",
    "        pass\n"
   ]
  },
  {
   "cell_type": "code",
   "execution_count": 85,
   "metadata": {},
   "outputs": [],
   "source": [
    "# Create a test case generator\n",
    "def generate_linear_dataset(beta1, beta2, n, std_dev):\n",
    "    X1 = np.random.random(n) * 100\n",
    "    X2 = np.random.random(n) * 100\n",
    "    eps = np.random.randn(n) * std_dev\n",
    "    y = X1*beta1 + X2*beta2 + eps\n",
    "    X = np.column_stack((X1, X2))\n",
    "    return X, y\n",
    "\n",
    "def generate_samples(num_ind_variables, num_samples):\n",
    "    X_temp = np.random.rand(num_samples, num_ind_variables) * 100\n",
    "    ones_column = np.ones(num_samples)\n",
    "    X = np.column_stack((ones_column, X_temp))\n",
    "    return X"
   ]
  },
  {
   "cell_type": "code",
   "execution_count": 86,
   "metadata": {},
   "outputs": [],
   "source": [
    "X, y = generate_linear_dataset(7, 4, 100, 1.6)"
   ]
  },
  {
   "cell_type": "code",
   "execution_count": 87,
   "metadata": {},
   "outputs": [],
   "source": [
    "test1 = LinReg(max_iterations=15, alpha=0.0001)\n",
    "test1.fit(X, y, \"analytic\")"
   ]
  },
  {
   "cell_type": "code",
   "execution_count": 88,
   "metadata": {},
   "outputs": [
    {
     "data": {
      "text/plain": [
       "array([ 0.56420216,  6.9976625 ,  3.99585949])"
      ]
     },
     "execution_count": 88,
     "metadata": {},
     "output_type": "execute_result"
    }
   ],
   "source": [
    "test1.theta_anal"
   ]
  },
  {
   "cell_type": "code",
   "execution_count": 89,
   "metadata": {},
   "outputs": [],
   "source": [
    "test1.fit(X, y, \"iterative\")"
   ]
  },
  {
   "cell_type": "code",
   "execution_count": 90,
   "metadata": {},
   "outputs": [
    {
     "data": {
      "text/plain": [
       "array([ 1.0784977 ,  6.64139514,  4.37677153])"
      ]
     },
     "execution_count": 90,
     "metadata": {},
     "output_type": "execute_result"
    }
   ],
   "source": [
    "test1.theta_iter"
   ]
  },
  {
   "cell_type": "code",
   "execution_count": 91,
   "metadata": {},
   "outputs": [],
   "source": [
    "import matplotlib.pyplot as plt"
   ]
  },
  {
   "cell_type": "code",
   "execution_count": 92,
   "metadata": {},
   "outputs": [
    {
     "data": {
      "text/plain": [
       "Text(0,0.5,'cost function')"
      ]
     },
     "execution_count": 92,
     "metadata": {},
     "output_type": "execute_result"
    }
   ],
   "source": [
    "x_range = list(range(1, test1.cost_hist.shape[0]+1))\n",
    "plt.fill_between(x_range, test1.cost_hist)\n",
    "plt.xlabel('iteration')\n",
    "plt.ylabel('cost function')"
   ]
  },
  {
   "cell_type": "code",
   "execution_count": 93,
   "metadata": {},
   "outputs": [
    {
     "data": {
      "image/png": "[encoded data removed]",
      "text/plain": [
       "<Figure size 432x288 with 1 Axes>"
      ]
     },
     "metadata": {},
     "output_type": "display_data"
    }
   ],
   "source": [
    "plt.show()"
   ]
  },
  {
   "cell_type": "code",
   "execution_count": 94,
   "metadata": {},
   "outputs": [
    {
     "data": {
      "text/plain": [
       "0.56420216434758785"
      ]
     },
     "execution_count": 94,
     "metadata": {},
     "output_type": "execute_result"
    }
   ],
   "source": [
    "test1.theta_anal[0]"
   ]
  },
  {
   "cell_type": "code",
   "execution_count": 95,
   "metadata": {},
   "outputs": [],
   "source": [
    "X_samples = generate_samples(2, 100)"
   ]
  },
  {
   "cell_type": "code",
   "execution_count": 96,
   "metadata": {},
   "outputs": [],
   "source": [
    "test1.predict(X_samples)"
   ]
  },
  {
   "cell_type": "code",
   "execution_count": 97,
   "metadata": {},
   "outputs": [
    {
     "data": {
      "text/plain": [
       "array([ 932.49063125,  676.24817542,  800.55469377,  593.71760641,\n",
       "        833.80594465,  228.01872164,  955.10423407,  400.03093191,\n",
       "        444.16378482,  517.42720157,  683.21602177,  538.77605716,\n",
       "        913.30401994,  366.19623393,  274.99564442,  214.17510902,\n",
       "        587.5242169 ,  622.40689127,  481.33994447,  685.45128799,\n",
       "        512.50745834,  415.3993733 ,  498.33244755,  132.28752048,\n",
       "        248.70069089,  874.32899349,  421.29251586,  352.06177573,\n",
       "        703.91224604,  142.65237433,  401.45558664,  653.60024116,\n",
       "        565.29410499,  253.33892507,  357.82114057,  658.8727769 ,\n",
       "        779.70281848,  993.85321091,  187.601726  ,  392.36356843,\n",
       "        752.8109619 ,  588.09183164,  339.04119652,  556.67915669,\n",
       "        322.50987832,  789.72168978,  829.20528173,  534.85274225,\n",
       "        733.33116558,  491.49097353,  809.64331861,  683.97532272,\n",
       "        472.27818632,  470.12425366,  126.93500375,  272.35271192,\n",
       "        427.02825697,  413.04572921,  631.31397813,  550.76202518,\n",
       "        634.05835054,  238.78564378,  473.45587713,  357.84552378,\n",
       "        252.81582515,  598.30833312,  390.37163197,  798.74495264,\n",
       "        507.66901659,  539.10800262,   39.93621951,  599.42434457,\n",
       "        202.98537252,  985.04110471,  408.08011485,  586.72453047,\n",
       "        638.55093854,  685.57741641,  934.13693304,  612.3742622 ,\n",
       "        731.33253517,  732.84761176,  200.05166407,  141.92316584,\n",
       "        489.89859975,  210.22283483,  191.0084727 ,  600.31623324,\n",
       "        314.31638917,  724.50226891,  597.72464735,  586.59163285,\n",
       "        999.53984153,  370.09489067,  687.19585502,  823.60310697,\n",
       "        521.42260904,  511.19683931,  667.95271242,  363.15317335])"
      ]
     },
     "execution_count": 97,
     "metadata": {},
     "output_type": "execute_result"
    }
   ],
   "source": [
    "test1.y_predicted"
   ]
  },
  {
   "cell_type": "code",
   "execution_count": null,
   "metadata": {},
   "outputs": [],
   "source": []
  }
 ],
 "metadata": {
  "kernelspec": {
   "display_name": "Python [default]",
   "language": "python",
   "name": "python3"
  },
  "language_info": {
   "codemirror_mode": {
    "name": "ipython",
    "version": 3
   },
   "file_extension": ".py",
   "mimetype": "text/x-python",
   "name": "python",
   "nbconvert_exporter": "python",
   "pygments_lexer": "ipython3",
   "version": "3.5.5"
  },
  "varInspector": {
   "cols": {
    "lenName": 16,
    "lenType": 16,
    "lenVar": 40
   },
   "kernels_config": {
    "python": {
     "delete_cmd_postfix": "",
     "delete_cmd_prefix": "del ",
     "library": "var_list.py",
     "varRefreshCmd": "print(var_dic_list())"
    },
    "r": {
     "delete_cmd_postfix": ") ",
     "delete_cmd_prefix": "rm(",
     "library": "var_list.r",
     "varRefreshCmd": "cat(var_dic_list()) "
    }
   },
   "position": {
    "height": "354px",
    "left": "1260px",
    "right": "20px",
    "top": "108px",
    "width": "628px"
   },
   "types_to_exclude": [
    "module",
    "function",
    "builtin_function_or_method",
    "instance",
    "_Feature"
   ],
   "window_display": true
  }
 },
 "nbformat": 4,
 "nbformat_minor": 2
}
