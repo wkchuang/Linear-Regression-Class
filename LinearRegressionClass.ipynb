{
 "cells": [
  {
   "cell_type": "code",
   "execution_count": null,
   "metadata": {},
   "outputs": [],
   "source": [
    "# Create a linear regression class\n",
    "\n",
    "class linReg:\n",
    "    # Take in variables\n",
    "    # 'fit method','predict given fit method'\n",
    "    def __init__(self, X, y, fitmethod, x0, x1):\n",
    "        self.X = X\n",
    "        self.y = y\n",
    "        self.fitmethod = fitmethod\n",
    "        \n",
    "    # Issue error if fitmethod is not supplied\n",
    "    \n",
    "    # Method to create regression analytically\n",
    "    Xtranspose = np.transpose(X)\n",
    "    # Method to create regression recursively\n",
    "    \n",
    "    # "
   ]
  }
 ],
 "metadata": {
  "kernelspec": {
   "display_name": "Python [default]",
   "language": "python",
   "name": "python3"
  },
  "language_info": {
   "codemirror_mode": {
    "name": "ipython",
    "version": 3
   },
   "file_extension": ".py",
   "mimetype": "text/x-python",
   "name": "python",
   "nbconvert_exporter": "python",
   "pygments_lexer": "ipython3",
   "version": "3.5.5"
  }
 },
 "nbformat": 4,
 "nbformat_minor": 2
}
